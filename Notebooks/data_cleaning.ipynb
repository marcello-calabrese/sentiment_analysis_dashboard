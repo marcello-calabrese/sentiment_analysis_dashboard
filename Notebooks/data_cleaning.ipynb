{
 "cells": [
  {
   "attachments": {},
   "cell_type": "markdown",
   "metadata": {},
   "source": [
    "# Cars Review Dataset Cleaning"
   ]
  },
  {
   "cell_type": "code",
   "execution_count": 1,
   "metadata": {},
   "outputs": [],
   "source": [
    "import pandas as pd\n",
    "import numpy as np\n",
    "import matplotlib.pyplot as plt\n",
    "import seaborn as sns\n"
   ]
  },
  {
   "cell_type": "code",
   "execution_count": 2,
   "metadata": {},
   "outputs": [
    {
     "data": {
      "text/html": [
       "<div>\n",
       "<style scoped>\n",
       "    .dataframe tbody tr th:only-of-type {\n",
       "        vertical-align: middle;\n",
       "    }\n",
       "\n",
       "    .dataframe tbody tr th {\n",
       "        vertical-align: top;\n",
       "    }\n",
       "\n",
       "    .dataframe thead th {\n",
       "        text-align: right;\n",
       "    }\n",
       "</style>\n",
       "<table border=\"1\" class=\"dataframe\">\n",
       "  <thead>\n",
       "    <tr style=\"text-align: right;\">\n",
       "      <th></th>\n",
       "      <th>Review_Date</th>\n",
       "      <th>Author_Name</th>\n",
       "      <th>Vehicle_Title</th>\n",
       "      <th>Review_Title</th>\n",
       "      <th>Review</th>\n",
       "      <th>Rating</th>\n",
       "    </tr>\n",
       "  </thead>\n",
       "  <tbody>\n",
       "    <tr>\n",
       "      <th>0</th>\n",
       "      <td>on 04/28/17 08:08 AM (PDT)</td>\n",
       "      <td>Garrett Stites</td>\n",
       "      <td>2015 Ferrari 458 Italia Convertible Spider 2dr...</td>\n",
       "      <td>The best car around!</td>\n",
       "      <td>This car gets great gas mileage and is the be...</td>\n",
       "      <td>5.00</td>\n",
       "    </tr>\n",
       "    <tr>\n",
       "      <th>1</th>\n",
       "      <td>on 11/19/11 16:47 PM (PST)</td>\n",
       "      <td>debu99</td>\n",
       "      <td>2006 Ferrari 612 Scaglietti Coupe F1 2dr Coupe...</td>\n",
       "      <td>keeps on beeing just great</td>\n",
       "      <td>Owning the 612 now over 3 years and using it ...</td>\n",
       "      <td>4.75</td>\n",
       "    </tr>\n",
       "    <tr>\n",
       "      <th>2</th>\n",
       "      <td>on 06/28/07 22:12 PM (PDT)</td>\n",
       "      <td>Arnell Baylet</td>\n",
       "      <td>2006 Ferrari 612 Scaglietti Coupe F1 2dr Coupe...</td>\n",
       "      <td>Incredible Ride, Sticker Shock, Low MPG</td>\n",
       "      <td>Best controllable acceleration ever witnessed...</td>\n",
       "      <td>5.00</td>\n",
       "    </tr>\n",
       "    <tr>\n",
       "      <th>3</th>\n",
       "      <td>on 05/30/07 10:56 AM (PDT)</td>\n",
       "      <td>gregMTU</td>\n",
       "      <td>2006 Ferrari 612 Scaglietti Coupe F1 2dr Coupe...</td>\n",
       "      <td>612 Scag The Best!</td>\n",
       "      <td>The engine is strong pulling right up to 7000...</td>\n",
       "      <td>5.00</td>\n",
       "    </tr>\n",
       "    <tr>\n",
       "      <th>4</th>\n",
       "      <td>on 01/21/07 12:58 PM (PST)</td>\n",
       "      <td>Darrel McOnnery</td>\n",
       "      <td>2006 Ferrari 612 Scaglietti Coupe 2dr Coupe (5...</td>\n",
       "      <td>612 Scaglietti! Quietly the Best Ferrari Ever!</td>\n",
       "      <td>This car, the 612 Scaglietti,  is overlooked ...</td>\n",
       "      <td>5.00</td>\n",
       "    </tr>\n",
       "  </tbody>\n",
       "</table>\n",
       "</div>"
      ],
      "text/plain": [
       "                   Review_Date       Author_Name  \\\n",
       "0   on 04/28/17 08:08 AM (PDT)   Garrett Stites    \n",
       "1   on 11/19/11 16:47 PM (PST)           debu99    \n",
       "2   on 06/28/07 22:12 PM (PDT)    Arnell Baylet    \n",
       "3   on 05/30/07 10:56 AM (PDT)          gregMTU    \n",
       "4   on 01/21/07 12:58 PM (PST)  Darrel McOnnery    \n",
       "\n",
       "                                       Vehicle_Title  \\\n",
       "0  2015 Ferrari 458 Italia Convertible Spider 2dr...   \n",
       "1  2006 Ferrari 612 Scaglietti Coupe F1 2dr Coupe...   \n",
       "2  2006 Ferrari 612 Scaglietti Coupe F1 2dr Coupe...   \n",
       "3  2006 Ferrari 612 Scaglietti Coupe F1 2dr Coupe...   \n",
       "4  2006 Ferrari 612 Scaglietti Coupe 2dr Coupe (5...   \n",
       "\n",
       "                                     Review_Title  \\\n",
       "0                            The best car around!   \n",
       "1                      keeps on beeing just great   \n",
       "2         Incredible Ride, Sticker Shock, Low MPG   \n",
       "3                              612 Scag The Best!   \n",
       "4  612 Scaglietti! Quietly the Best Ferrari Ever!   \n",
       "\n",
       "                                              Review  Rating  \n",
       "0   This car gets great gas mileage and is the be...    5.00  \n",
       "1   Owning the 612 now over 3 years and using it ...    4.75  \n",
       "2   Best controllable acceleration ever witnessed...    5.00  \n",
       "3   The engine is strong pulling right up to 7000...    5.00  \n",
       "4   This car, the 612 Scaglietti,  is overlooked ...    5.00  "
      ]
     },
     "execution_count": 2,
     "metadata": {},
     "output_type": "execute_result"
    }
   ],
   "source": [
    "# Read in the data from the excel file\n",
    "\n",
    "df = pd.read_excel('combined_cars_review.xlsx')\n",
    "\n",
    "df.head()"
   ]
  },
  {
   "cell_type": "code",
   "execution_count": 3,
   "metadata": {},
   "outputs": [
    {
     "data": {
      "text/plain": [
       "(156318, 6)"
      ]
     },
     "execution_count": 3,
     "metadata": {},
     "output_type": "execute_result"
    }
   ],
   "source": [
    "# Check the shape of the data\n",
    "\n",
    "df.shape"
   ]
  },
  {
   "cell_type": "code",
   "execution_count": 4,
   "metadata": {},
   "outputs": [
    {
     "data": {
      "text/plain": [
       "Review_Date       object\n",
       "Author_Name       object\n",
       "Vehicle_Title     object\n",
       "Review_Title      object\n",
       "Review            object\n",
       "Rating           float64\n",
       "dtype: object"
      ]
     },
     "execution_count": 4,
     "metadata": {},
     "output_type": "execute_result"
    }
   ],
   "source": [
    "# Check the data types of the columns\n",
    "\n",
    "df.dtypes"
   ]
  },
  {
   "cell_type": "code",
   "execution_count": 7,
   "metadata": {},
   "outputs": [
    {
     "data": {
      "text/plain": [
       "Review_Date      23219\n",
       "Author_Name      29063\n",
       "Vehicle_Title    29062\n",
       "Review_Title     29071\n",
       "Review           29062\n",
       "Rating           34905\n",
       "dtype: int64"
      ]
     },
     "execution_count": 7,
     "metadata": {},
     "output_type": "execute_result"
    }
   ],
   "source": [
    "# Check for missing values\n",
    "\n",
    "df.isnull().sum()"
   ]
  },
  {
   "cell_type": "code",
   "execution_count": 8,
   "metadata": {},
   "outputs": [],
   "source": [
    "# replace Rating with the median of the Rating column\n",
    "\n",
    "df['Rating'].fillna(df['Rating'].median(), inplace=True)"
   ]
  },
  {
   "cell_type": "code",
   "execution_count": 9,
   "metadata": {},
   "outputs": [
    {
     "data": {
      "text/plain": [
       "Review_Date      23219\n",
       "Author_Name      29063\n",
       "Vehicle_Title    29062\n",
       "Review_Title     29071\n",
       "Review           29062\n",
       "Rating               0\n",
       "dtype: int64"
      ]
     },
     "execution_count": 9,
     "metadata": {},
     "output_type": "execute_result"
    }
   ],
   "source": [
    "df.isnull().sum()"
   ]
  },
  {
   "cell_type": "code",
   "execution_count": 10,
   "metadata": {},
   "outputs": [],
   "source": [
    "# drop the rows with missing values\n",
    "\n",
    "df.dropna(inplace=True)"
   ]
  },
  {
   "cell_type": "code",
   "execution_count": 11,
   "metadata": {},
   "outputs": [
    {
     "data": {
      "text/plain": [
       "Review_Date      0\n",
       "Author_Name      0\n",
       "Vehicle_Title    0\n",
       "Review_Title     0\n",
       "Review           0\n",
       "Rating           0\n",
       "dtype: int64"
      ]
     },
     "execution_count": 11,
     "metadata": {},
     "output_type": "execute_result"
    }
   ],
   "source": [
    "df.isnull().sum()"
   ]
  },
  {
   "cell_type": "code",
   "execution_count": 12,
   "metadata": {},
   "outputs": [
    {
     "data": {
      "text/plain": [
       "(127246, 6)"
      ]
     },
     "execution_count": 12,
     "metadata": {},
     "output_type": "execute_result"
    }
   ],
   "source": [
    "df.shape"
   ]
  },
  {
   "cell_type": "code",
   "execution_count": 15,
   "metadata": {},
   "outputs": [
    {
     "name": "stderr",
     "output_type": "stream",
     "text": [
      "C:\\Users\\marce\\AppData\\Local\\Temp\\ipykernel_17468\\3412221114.py:3: FutureWarning: The default value of regex will change from True to False in a future version.\n",
      "  df['Review_Date'] = df['Review_Date'].str.replace(r'\\(PDT\\)', '')\n"
     ]
    }
   ],
   "source": [
    "# from Review_date column, delete the (PDT) and (PST) and convert the column to datetime\n",
    "\n",
    "df['Review_Date'] = df['Review_Date'].str.replace(r'\\(PDT\\)', '')\n",
    "\n"
   ]
  },
  {
   "cell_type": "code",
   "execution_count": 16,
   "metadata": {},
   "outputs": [
    {
     "data": {
      "text/plain": [
       "0          on 04/28/17 08:08 AM \n",
       "1     on 11/19/11 16:47 PM (PST)\n",
       "2          on 06/28/07 22:12 PM \n",
       "3          on 05/30/07 10:56 AM \n",
       "4     on 01/21/07 12:58 PM (PST)\n",
       "Name: Review_Date, dtype: object"
      ]
     },
     "execution_count": 16,
     "metadata": {},
     "output_type": "execute_result"
    }
   ],
   "source": [
    "df['Review_Date'].head()"
   ]
  },
  {
   "cell_type": "code",
   "execution_count": 19,
   "metadata": {},
   "outputs": [],
   "source": [
    "df.drop(columns=['Date_Review'], inplace=True)"
   ]
  },
  {
   "cell_type": "code",
   "execution_count": 20,
   "metadata": {},
   "outputs": [
    {
     "data": {
      "text/html": [
       "<div>\n",
       "<style scoped>\n",
       "    .dataframe tbody tr th:only-of-type {\n",
       "        vertical-align: middle;\n",
       "    }\n",
       "\n",
       "    .dataframe tbody tr th {\n",
       "        vertical-align: top;\n",
       "    }\n",
       "\n",
       "    .dataframe thead th {\n",
       "        text-align: right;\n",
       "    }\n",
       "</style>\n",
       "<table border=\"1\" class=\"dataframe\">\n",
       "  <thead>\n",
       "    <tr style=\"text-align: right;\">\n",
       "      <th></th>\n",
       "      <th>Review_Date</th>\n",
       "      <th>Author_Name</th>\n",
       "      <th>Vehicle_Title</th>\n",
       "      <th>Review_Title</th>\n",
       "      <th>Review</th>\n",
       "      <th>Rating</th>\n",
       "    </tr>\n",
       "  </thead>\n",
       "  <tbody>\n",
       "    <tr>\n",
       "      <th>0</th>\n",
       "      <td>on 04/28/17 08:08 AM</td>\n",
       "      <td>Garrett Stites</td>\n",
       "      <td>2015 Ferrari 458 Italia Convertible Spider 2dr...</td>\n",
       "      <td>The best car around!</td>\n",
       "      <td>This car gets great gas mileage and is the be...</td>\n",
       "      <td>5.00</td>\n",
       "    </tr>\n",
       "    <tr>\n",
       "      <th>1</th>\n",
       "      <td>on 11/19/11 16:47 PM (PST)</td>\n",
       "      <td>debu99</td>\n",
       "      <td>2006 Ferrari 612 Scaglietti Coupe F1 2dr Coupe...</td>\n",
       "      <td>keeps on beeing just great</td>\n",
       "      <td>Owning the 612 now over 3 years and using it ...</td>\n",
       "      <td>4.75</td>\n",
       "    </tr>\n",
       "    <tr>\n",
       "      <th>2</th>\n",
       "      <td>on 06/28/07 22:12 PM</td>\n",
       "      <td>Arnell Baylet</td>\n",
       "      <td>2006 Ferrari 612 Scaglietti Coupe F1 2dr Coupe...</td>\n",
       "      <td>Incredible Ride, Sticker Shock, Low MPG</td>\n",
       "      <td>Best controllable acceleration ever witnessed...</td>\n",
       "      <td>5.00</td>\n",
       "    </tr>\n",
       "    <tr>\n",
       "      <th>3</th>\n",
       "      <td>on 05/30/07 10:56 AM</td>\n",
       "      <td>gregMTU</td>\n",
       "      <td>2006 Ferrari 612 Scaglietti Coupe F1 2dr Coupe...</td>\n",
       "      <td>612 Scag The Best!</td>\n",
       "      <td>The engine is strong pulling right up to 7000...</td>\n",
       "      <td>5.00</td>\n",
       "    </tr>\n",
       "    <tr>\n",
       "      <th>4</th>\n",
       "      <td>on 01/21/07 12:58 PM (PST)</td>\n",
       "      <td>Darrel McOnnery</td>\n",
       "      <td>2006 Ferrari 612 Scaglietti Coupe 2dr Coupe (5...</td>\n",
       "      <td>612 Scaglietti! Quietly the Best Ferrari Ever!</td>\n",
       "      <td>This car, the 612 Scaglietti,  is overlooked ...</td>\n",
       "      <td>5.00</td>\n",
       "    </tr>\n",
       "  </tbody>\n",
       "</table>\n",
       "</div>"
      ],
      "text/plain": [
       "                   Review_Date       Author_Name  \\\n",
       "0        on 04/28/17 08:08 AM    Garrett Stites    \n",
       "1   on 11/19/11 16:47 PM (PST)           debu99    \n",
       "2        on 06/28/07 22:12 PM     Arnell Baylet    \n",
       "3        on 05/30/07 10:56 AM           gregMTU    \n",
       "4   on 01/21/07 12:58 PM (PST)  Darrel McOnnery    \n",
       "\n",
       "                                       Vehicle_Title  \\\n",
       "0  2015 Ferrari 458 Italia Convertible Spider 2dr...   \n",
       "1  2006 Ferrari 612 Scaglietti Coupe F1 2dr Coupe...   \n",
       "2  2006 Ferrari 612 Scaglietti Coupe F1 2dr Coupe...   \n",
       "3  2006 Ferrari 612 Scaglietti Coupe F1 2dr Coupe...   \n",
       "4  2006 Ferrari 612 Scaglietti Coupe 2dr Coupe (5...   \n",
       "\n",
       "                                     Review_Title  \\\n",
       "0                            The best car around!   \n",
       "1                      keeps on beeing just great   \n",
       "2         Incredible Ride, Sticker Shock, Low MPG   \n",
       "3                              612 Scag The Best!   \n",
       "4  612 Scaglietti! Quietly the Best Ferrari Ever!   \n",
       "\n",
       "                                              Review  Rating  \n",
       "0   This car gets great gas mileage and is the be...    5.00  \n",
       "1   Owning the 612 now over 3 years and using it ...    4.75  \n",
       "2   Best controllable acceleration ever witnessed...    5.00  \n",
       "3   The engine is strong pulling right up to 7000...    5.00  \n",
       "4   This car, the 612 Scaglietti,  is overlooked ...    5.00  "
      ]
     },
     "execution_count": 20,
     "metadata": {},
     "output_type": "execute_result"
    }
   ],
   "source": [
    "df.head()"
   ]
  },
  {
   "cell_type": "code",
   "execution_count": 21,
   "metadata": {},
   "outputs": [],
   "source": [
    "# Extract date from Review_Date\n",
    "df['Date'] = df['Review_Date'].str.extract(r'on\\s+(\\d{2}/\\d{2}/\\d{2})')"
   ]
  },
  {
   "cell_type": "code",
   "execution_count": 22,
   "metadata": {},
   "outputs": [
    {
     "data": {
      "text/html": [
       "<div>\n",
       "<style scoped>\n",
       "    .dataframe tbody tr th:only-of-type {\n",
       "        vertical-align: middle;\n",
       "    }\n",
       "\n",
       "    .dataframe tbody tr th {\n",
       "        vertical-align: top;\n",
       "    }\n",
       "\n",
       "    .dataframe thead th {\n",
       "        text-align: right;\n",
       "    }\n",
       "</style>\n",
       "<table border=\"1\" class=\"dataframe\">\n",
       "  <thead>\n",
       "    <tr style=\"text-align: right;\">\n",
       "      <th></th>\n",
       "      <th>Review_Date</th>\n",
       "      <th>Author_Name</th>\n",
       "      <th>Vehicle_Title</th>\n",
       "      <th>Review_Title</th>\n",
       "      <th>Review</th>\n",
       "      <th>Rating</th>\n",
       "      <th>Date</th>\n",
       "    </tr>\n",
       "  </thead>\n",
       "  <tbody>\n",
       "    <tr>\n",
       "      <th>0</th>\n",
       "      <td>on 04/28/17 08:08 AM</td>\n",
       "      <td>Garrett Stites</td>\n",
       "      <td>2015 Ferrari 458 Italia Convertible Spider 2dr...</td>\n",
       "      <td>The best car around!</td>\n",
       "      <td>This car gets great gas mileage and is the be...</td>\n",
       "      <td>5.00</td>\n",
       "      <td>04/28/17</td>\n",
       "    </tr>\n",
       "    <tr>\n",
       "      <th>1</th>\n",
       "      <td>on 11/19/11 16:47 PM (PST)</td>\n",
       "      <td>debu99</td>\n",
       "      <td>2006 Ferrari 612 Scaglietti Coupe F1 2dr Coupe...</td>\n",
       "      <td>keeps on beeing just great</td>\n",
       "      <td>Owning the 612 now over 3 years and using it ...</td>\n",
       "      <td>4.75</td>\n",
       "      <td>11/19/11</td>\n",
       "    </tr>\n",
       "    <tr>\n",
       "      <th>2</th>\n",
       "      <td>on 06/28/07 22:12 PM</td>\n",
       "      <td>Arnell Baylet</td>\n",
       "      <td>2006 Ferrari 612 Scaglietti Coupe F1 2dr Coupe...</td>\n",
       "      <td>Incredible Ride, Sticker Shock, Low MPG</td>\n",
       "      <td>Best controllable acceleration ever witnessed...</td>\n",
       "      <td>5.00</td>\n",
       "      <td>06/28/07</td>\n",
       "    </tr>\n",
       "    <tr>\n",
       "      <th>3</th>\n",
       "      <td>on 05/30/07 10:56 AM</td>\n",
       "      <td>gregMTU</td>\n",
       "      <td>2006 Ferrari 612 Scaglietti Coupe F1 2dr Coupe...</td>\n",
       "      <td>612 Scag The Best!</td>\n",
       "      <td>The engine is strong pulling right up to 7000...</td>\n",
       "      <td>5.00</td>\n",
       "      <td>05/30/07</td>\n",
       "    </tr>\n",
       "    <tr>\n",
       "      <th>4</th>\n",
       "      <td>on 01/21/07 12:58 PM (PST)</td>\n",
       "      <td>Darrel McOnnery</td>\n",
       "      <td>2006 Ferrari 612 Scaglietti Coupe 2dr Coupe (5...</td>\n",
       "      <td>612 Scaglietti! Quietly the Best Ferrari Ever!</td>\n",
       "      <td>This car, the 612 Scaglietti,  is overlooked ...</td>\n",
       "      <td>5.00</td>\n",
       "      <td>01/21/07</td>\n",
       "    </tr>\n",
       "  </tbody>\n",
       "</table>\n",
       "</div>"
      ],
      "text/plain": [
       "                   Review_Date       Author_Name  \\\n",
       "0        on 04/28/17 08:08 AM    Garrett Stites    \n",
       "1   on 11/19/11 16:47 PM (PST)           debu99    \n",
       "2        on 06/28/07 22:12 PM     Arnell Baylet    \n",
       "3        on 05/30/07 10:56 AM           gregMTU    \n",
       "4   on 01/21/07 12:58 PM (PST)  Darrel McOnnery    \n",
       "\n",
       "                                       Vehicle_Title  \\\n",
       "0  2015 Ferrari 458 Italia Convertible Spider 2dr...   \n",
       "1  2006 Ferrari 612 Scaglietti Coupe F1 2dr Coupe...   \n",
       "2  2006 Ferrari 612 Scaglietti Coupe F1 2dr Coupe...   \n",
       "3  2006 Ferrari 612 Scaglietti Coupe F1 2dr Coupe...   \n",
       "4  2006 Ferrari 612 Scaglietti Coupe 2dr Coupe (5...   \n",
       "\n",
       "                                     Review_Title  \\\n",
       "0                            The best car around!   \n",
       "1                      keeps on beeing just great   \n",
       "2         Incredible Ride, Sticker Shock, Low MPG   \n",
       "3                              612 Scag The Best!   \n",
       "4  612 Scaglietti! Quietly the Best Ferrari Ever!   \n",
       "\n",
       "                                              Review  Rating      Date  \n",
       "0   This car gets great gas mileage and is the be...    5.00  04/28/17  \n",
       "1   Owning the 612 now over 3 years and using it ...    4.75  11/19/11  \n",
       "2   Best controllable acceleration ever witnessed...    5.00  06/28/07  \n",
       "3   The engine is strong pulling right up to 7000...    5.00  05/30/07  \n",
       "4   This car, the 612 Scaglietti,  is overlooked ...    5.00  01/21/07  "
      ]
     },
     "execution_count": 22,
     "metadata": {},
     "output_type": "execute_result"
    }
   ],
   "source": [
    "df.head()"
   ]
  },
  {
   "cell_type": "code",
   "execution_count": 23,
   "metadata": {},
   "outputs": [],
   "source": [
    "# Extract time from Review_Date\n",
    "df['Time'] = df['Review_Date'].str.extract(r'\\b(\\d{2}:\\d{2})\\b\\s+[AP]M')"
   ]
  },
  {
   "cell_type": "code",
   "execution_count": 24,
   "metadata": {},
   "outputs": [
    {
     "data": {
      "text/html": [
       "<div>\n",
       "<style scoped>\n",
       "    .dataframe tbody tr th:only-of-type {\n",
       "        vertical-align: middle;\n",
       "    }\n",
       "\n",
       "    .dataframe tbody tr th {\n",
       "        vertical-align: top;\n",
       "    }\n",
       "\n",
       "    .dataframe thead th {\n",
       "        text-align: right;\n",
       "    }\n",
       "</style>\n",
       "<table border=\"1\" class=\"dataframe\">\n",
       "  <thead>\n",
       "    <tr style=\"text-align: right;\">\n",
       "      <th></th>\n",
       "      <th>Review_Date</th>\n",
       "      <th>Author_Name</th>\n",
       "      <th>Vehicle_Title</th>\n",
       "      <th>Review_Title</th>\n",
       "      <th>Review</th>\n",
       "      <th>Rating</th>\n",
       "      <th>Date</th>\n",
       "      <th>Time</th>\n",
       "    </tr>\n",
       "  </thead>\n",
       "  <tbody>\n",
       "    <tr>\n",
       "      <th>0</th>\n",
       "      <td>on 04/28/17 08:08 AM</td>\n",
       "      <td>Garrett Stites</td>\n",
       "      <td>2015 Ferrari 458 Italia Convertible Spider 2dr...</td>\n",
       "      <td>The best car around!</td>\n",
       "      <td>This car gets great gas mileage and is the be...</td>\n",
       "      <td>5.00</td>\n",
       "      <td>04/28/17</td>\n",
       "      <td>08:08</td>\n",
       "    </tr>\n",
       "    <tr>\n",
       "      <th>1</th>\n",
       "      <td>on 11/19/11 16:47 PM (PST)</td>\n",
       "      <td>debu99</td>\n",
       "      <td>2006 Ferrari 612 Scaglietti Coupe F1 2dr Coupe...</td>\n",
       "      <td>keeps on beeing just great</td>\n",
       "      <td>Owning the 612 now over 3 years and using it ...</td>\n",
       "      <td>4.75</td>\n",
       "      <td>11/19/11</td>\n",
       "      <td>16:47</td>\n",
       "    </tr>\n",
       "    <tr>\n",
       "      <th>2</th>\n",
       "      <td>on 06/28/07 22:12 PM</td>\n",
       "      <td>Arnell Baylet</td>\n",
       "      <td>2006 Ferrari 612 Scaglietti Coupe F1 2dr Coupe...</td>\n",
       "      <td>Incredible Ride, Sticker Shock, Low MPG</td>\n",
       "      <td>Best controllable acceleration ever witnessed...</td>\n",
       "      <td>5.00</td>\n",
       "      <td>06/28/07</td>\n",
       "      <td>22:12</td>\n",
       "    </tr>\n",
       "    <tr>\n",
       "      <th>3</th>\n",
       "      <td>on 05/30/07 10:56 AM</td>\n",
       "      <td>gregMTU</td>\n",
       "      <td>2006 Ferrari 612 Scaglietti Coupe F1 2dr Coupe...</td>\n",
       "      <td>612 Scag The Best!</td>\n",
       "      <td>The engine is strong pulling right up to 7000...</td>\n",
       "      <td>5.00</td>\n",
       "      <td>05/30/07</td>\n",
       "      <td>10:56</td>\n",
       "    </tr>\n",
       "    <tr>\n",
       "      <th>4</th>\n",
       "      <td>on 01/21/07 12:58 PM (PST)</td>\n",
       "      <td>Darrel McOnnery</td>\n",
       "      <td>2006 Ferrari 612 Scaglietti Coupe 2dr Coupe (5...</td>\n",
       "      <td>612 Scaglietti! Quietly the Best Ferrari Ever!</td>\n",
       "      <td>This car, the 612 Scaglietti,  is overlooked ...</td>\n",
       "      <td>5.00</td>\n",
       "      <td>01/21/07</td>\n",
       "      <td>12:58</td>\n",
       "    </tr>\n",
       "  </tbody>\n",
       "</table>\n",
       "</div>"
      ],
      "text/plain": [
       "                   Review_Date       Author_Name  \\\n",
       "0        on 04/28/17 08:08 AM    Garrett Stites    \n",
       "1   on 11/19/11 16:47 PM (PST)           debu99    \n",
       "2        on 06/28/07 22:12 PM     Arnell Baylet    \n",
       "3        on 05/30/07 10:56 AM           gregMTU    \n",
       "4   on 01/21/07 12:58 PM (PST)  Darrel McOnnery    \n",
       "\n",
       "                                       Vehicle_Title  \\\n",
       "0  2015 Ferrari 458 Italia Convertible Spider 2dr...   \n",
       "1  2006 Ferrari 612 Scaglietti Coupe F1 2dr Coupe...   \n",
       "2  2006 Ferrari 612 Scaglietti Coupe F1 2dr Coupe...   \n",
       "3  2006 Ferrari 612 Scaglietti Coupe F1 2dr Coupe...   \n",
       "4  2006 Ferrari 612 Scaglietti Coupe 2dr Coupe (5...   \n",
       "\n",
       "                                     Review_Title  \\\n",
       "0                            The best car around!   \n",
       "1                      keeps on beeing just great   \n",
       "2         Incredible Ride, Sticker Shock, Low MPG   \n",
       "3                              612 Scag The Best!   \n",
       "4  612 Scaglietti! Quietly the Best Ferrari Ever!   \n",
       "\n",
       "                                              Review  Rating      Date   Time  \n",
       "0   This car gets great gas mileage and is the be...    5.00  04/28/17  08:08  \n",
       "1   Owning the 612 now over 3 years and using it ...    4.75  11/19/11  16:47  \n",
       "2   Best controllable acceleration ever witnessed...    5.00  06/28/07  22:12  \n",
       "3   The engine is strong pulling right up to 7000...    5.00  05/30/07  10:56  \n",
       "4   This car, the 612 Scaglietti,  is overlooked ...    5.00  01/21/07  12:58  "
      ]
     },
     "execution_count": 24,
     "metadata": {},
     "output_type": "execute_result"
    }
   ],
   "source": [
    "df.head()"
   ]
  },
  {
   "cell_type": "code",
   "execution_count": 25,
   "metadata": {},
   "outputs": [],
   "source": [
    "# Convert the Date column to datetime\n",
    "\n",
    "df['Date'] = pd.to_datetime(df['Date'], format='%m/%d/%y')"
   ]
  },
  {
   "cell_type": "code",
   "execution_count": 30,
   "metadata": {},
   "outputs": [],
   "source": [
    "# drop the column Review_Date and Time\n",
    "\n",
    "df.drop(columns=['Review_Date', 'Time'], inplace=True)"
   ]
  },
  {
   "cell_type": "code",
   "execution_count": 31,
   "metadata": {},
   "outputs": [
    {
     "data": {
      "text/plain": [
       "Author_Name              object\n",
       "Vehicle_Title            object\n",
       "Review_Title             object\n",
       "Review                   object\n",
       "Rating                  float64\n",
       "Date             datetime64[ns]\n",
       "dtype: object"
      ]
     },
     "execution_count": 31,
     "metadata": {},
     "output_type": "execute_result"
    }
   ],
   "source": [
    "df.dtypes"
   ]
  },
  {
   "cell_type": "code",
   "execution_count": 33,
   "metadata": {},
   "outputs": [],
   "source": [
    "# save the cleaned data to an excel file\n",
    "\n",
    "\n",
    "df.to_excel('cleaned_cars_review.xlsx', index=False)"
   ]
  },
  {
   "cell_type": "code",
   "execution_count": null,
   "metadata": {},
   "outputs": [],
   "source": []
  }
 ],
 "metadata": {
  "kernelspec": {
   "display_name": "nlp_spacy_pycaret_streamlit",
   "language": "python",
   "name": "python3"
  },
  "language_info": {
   "codemirror_mode": {
    "name": "ipython",
    "version": 3
   },
   "file_extension": ".py",
   "mimetype": "text/x-python",
   "name": "python",
   "nbconvert_exporter": "python",
   "pygments_lexer": "ipython3",
   "version": "3.8.13"
  },
  "orig_nbformat": 4
 },
 "nbformat": 4,
 "nbformat_minor": 2
}
